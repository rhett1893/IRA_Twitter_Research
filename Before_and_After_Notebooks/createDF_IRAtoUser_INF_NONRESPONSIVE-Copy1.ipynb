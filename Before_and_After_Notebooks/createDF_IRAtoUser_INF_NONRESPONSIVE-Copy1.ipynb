{
 "cells": [
  {
   "cell_type": "code",
   "execution_count": 1,
   "metadata": {},
   "outputs": [],
   "source": [
    "import csv\n",
    "import numpy as np \n",
    "import pandas as pd\n",
    "from datetime import datetime as dt\n",
    "import pickle\n",
    "\n",
    "pd.set_option('display.max_rows', 4000)\n",
    "pd.set_option('display.max_columns', 200)"
   ]
  },
  {
   "cell_type": "markdown",
   "metadata": {},
   "source": [
    "**Get all user IDs**\n",
    "\n",
    "all user ids, stored in 'userID_dict' in the format of:\n",
    "\n",
    "userID_dict[user_id] = username"
   ]
  },
  {
   "cell_type": "code",
   "execution_count": 2,
   "metadata": {},
   "outputs": [
    {
     "data": {
      "text/plain": [
       "3102"
      ]
     },
     "execution_count": 2,
     "metadata": {},
     "output_type": "execute_result"
    }
   ],
   "source": [
    "# temp1D = pd.read_csv(\"dict_1d_usernames.csv\", low_memory=False)\n",
    "temp1D = pd.read_csv(\"/home/updu6059/Twint_Data/ParallelProcessing/Famous_Users/DidNotMentionBack_Users/Filtered_EnglishUsers_DidNotMentionedBackUsers_FINAL.csv\", low_memory=False)\n",
    "# temp1D.head()\n",
    "temp1D.head()\n",
    "len(temp1D)"
   ]
  },
  {
   "cell_type": "code",
   "execution_count": 3,
   "metadata": {},
   "outputs": [],
   "source": [
    "import tweepy\n",
    "# consumer_key = 'nnqF5rgtW0CKLjr2r4wLMdqMr'\n",
    "# consumer_secret = 'Ny2LDN43ZB5WCGMkKpLwc2FXbFN9x43UwYeQzACmuA4W4zKsLS'\n",
    "# access_token = '722619569760641025-mFPOJmQtCBwCg9d9LeQGUwFDdrPQCtE'\n",
    "# access_token_secret = 'Xi4h0a1WpcmrKjfxtNTXYTvzximuF9FzzKDJOptPgOS7X'\n",
    "consumer_key = 'bVgAX5fGidoy2IgPKHHgcfOG4'\n",
    "consumer_secret = '83b6zN5HSIjPk7ALaGwcFY9DRwNEvOABgB0YD3TJI4KXigzJY9'\n",
    "access_token = '48478289-5oNed2t3pcbO5aSt5DdeoeoOTfLUePQUYJ96tkkfd'\n",
    "access_token_secret = 'VDOFj9IjC0r5QgbIu1kGgAp68fEwHjKLlhGJkBPFRNbXD'\n",
    "auth = tweepy.OAuthHandler(consumer_key, consumer_secret)\n",
    "auth.set_access_token(access_token, access_token_secret)\n",
    "api = tweepy.API(auth)\n",
    "# user = api.get_user(screen_name = 'notnotrhett')\n",
    "# user.id"
   ]
  },
  {
   "cell_type": "code",
   "execution_count": 4,
   "metadata": {
    "scrolled": true
   },
   "outputs": [
    {
     "name": "stdout",
     "output_type": "stream",
     "text": [
      "User Failed [228]- SecludedSusie\n",
      "User Failed [480]- pzf\n",
      "User Failed [671]- TulipLotus\n",
      "User Failed [689]- DocPakistan\n",
      "User Failed [777]- thetrudz\n",
      "RATE LIMIT HIT [900]- eleanorbate\n",
      "User Failed [950]- DDonsmith007\n",
      "User Failed [1002]- MsBlaireWhite\n",
      "User Failed [1031]- BratFrye\n",
      "User Failed [1096]- OfficialBrettS\n",
      "User Failed [1223]- Nancys_News\n",
      "User Failed [1645]- pzf\n",
      "RATE LIMIT HIT [1801]- arielhelwani\n",
      "User Failed [2253]- GodlessNZ\n",
      "RATE LIMIT HIT [2702]- CRRJA5\n",
      "User Failed [3066]- slumpcone26\n"
     ]
    },
    {
     "data": {
      "text/plain": [
       "2918"
      ]
     },
     "execution_count": 4,
     "metadata": {},
     "output_type": "execute_result"
    }
   ],
   "source": [
    "userID_dict = {}\n",
    "import time\n",
    "# for i in range(len(temp1D)):\n",
    "#     userID_dict[temp1D['user_id'][i]] = temp1D['username'][i]\n",
    "\n",
    "for i in range(len(temp1D)):\n",
    "    try:\n",
    "        user = api.get_user(screen_name = temp1D['Users'][i])\n",
    "        userID_dict[user.id] = temp1D['Users'][i]\n",
    "#         print(user.id)\n",
    "    except tweepy.RateLimitError:\n",
    "        print(\"RATE LIMIT HIT [\" + str(i) + \"]- \" + temp1D['Users'][i])\n",
    "        time.sleep(15 * 60)\n",
    "        i -= 1\n",
    "    except:\n",
    "        print(\"User Failed [\" + str(i) + \"]- \" + temp1D['Users'][i])\n",
    "    \n",
    "len(userID_dict)"
   ]
  },
  {
   "cell_type": "markdown",
   "metadata": {},
   "source": [
    "**Read in IRA tweet set**"
   ]
  },
  {
   "cell_type": "code",
   "execution_count": null,
   "metadata": {},
   "outputs": [],
   "source": [
    "iraDF = pd.read_csv('ira_tweets_csv_unhashed.csv', low_memory=False)"
   ]
  },
  {
   "cell_type": "code",
   "execution_count": null,
   "metadata": {},
   "outputs": [],
   "source": [
    "print(len(iraDF))"
   ]
  },
  {
   "cell_type": "code",
   "execution_count": null,
   "metadata": {},
   "outputs": [],
   "source": [
    "iraDF.tail(5)"
   ]
  },
  {
   "cell_type": "markdown",
   "metadata": {},
   "source": [
    "**Create DataFrame for IRA -> User Contact Points**"
   ]
  },
  {
   "cell_type": "code",
   "execution_count": null,
   "metadata": {},
   "outputs": [],
   "source": [
    "contactPointsDF = pd.DataFrame(columns=['username','user_id','ira_username','ira_user_id',\n",
    "                                       'tweet', 'tweet_date', 'meantions_list'])"
   ]
  },
  {
   "cell_type": "markdown",
   "metadata": {},
   "source": [
    "**Loop through IRA data set, checking for contact with our current user set, if contact was established, add to contactPointsDF**"
   ]
  },
  {
   "cell_type": "code",
   "execution_count": null,
   "metadata": {},
   "outputs": [],
   "source": [
    "total = str(len(iraDF))\n",
    "count = 1\n",
    "#loop through ira tweet DF\n",
    "for tweet in range(len(iraDF)):\n",
    "    mention_string = str(iraDF['user_mentions'][tweet])\n",
    "    #if mention list exists, save and reformat as it is a string not a list\n",
    "    if mention_string != \"[]\" and mention_string != 'nan':  \n",
    "        mention_list = mention_string.split(', ')\n",
    "        mention_list[0] = mention_list[0][1:]\n",
    "        mention_list[-1] = mention_list[-1][:-1]\n",
    "        for x in range(len(mention_list)):\n",
    "            mention_list[x] = int(mention_list[x])\n",
    "#         for j in range(len(mention_list)):\n",
    "#             mention_list[j] = int(mention_list[j])\n",
    "\n",
    "        #check against user ids in our userID_dict\n",
    "        for mention in mention_list:\n",
    "            temp_key = mention\n",
    "            if temp_key in userID_dict.keys():\n",
    "#                 print(\"found!\")\n",
    "                #if a user id was mentioned, add to contactPointsDF\n",
    "                contactPointsDF = contactPointsDF.append(\n",
    "                    {'username' : userID_dict[temp_key],\n",
    "                      'user_id' : temp_key,\n",
    "                      'ira_username' : iraDF['user_screen_name'][tweet],\n",
    "                      'ira_user_id' : iraDF['userid'][tweet],\n",
    "                      'tweet' : iraDF['tweet_text'][tweet],\n",
    "                      'tweet_date' : iraDF['tweet_time'][tweet],\n",
    "                      'meantions_list' : mention_list,\n",
    "                     }, ignore_index=True)\n",
    "    if count % 1000 == 0:\n",
    "        print(str(count) + \" / \" + total)\n",
    "    count += 1"
   ]
  },
  {
   "cell_type": "markdown",
   "metadata": {},
   "source": [
    "**Now create a final DF which is more user-centric, i.e., a row for each user as opposed to a row for each tweet**\n"
   ]
  },
  {
   "cell_type": "code",
   "execution_count": null,
   "metadata": {},
   "outputs": [],
   "source": [
    "contactedUsers = contactPointsDF.username.unique()"
   ]
  },
  {
   "cell_type": "code",
   "execution_count": null,
   "metadata": {},
   "outputs": [],
   "source": [
    "len(contactPointsDF)"
   ]
  },
  {
   "cell_type": "code",
   "execution_count": null,
   "metadata": {},
   "outputs": [],
   "source": [
    "contactPointsDF.to_csv('contact_IRAtweets_Inf_NONRESPONSIVE_v2.csv')"
   ]
  },
  {
   "cell_type": "code",
   "execution_count": null,
   "metadata": {},
   "outputs": [],
   "source": [
    "len(contactedUsers)"
   ]
  },
  {
   "cell_type": "code",
   "execution_count": null,
   "metadata": {},
   "outputs": [],
   "source": [
    "contactDF = pd.DataFrame(columns=['username','user_id','ira_username','ira_user_id',\n",
    "                                       'tweet', 'tweet_date', 'mentions_list'])"
   ]
  },
  {
   "cell_type": "code",
   "execution_count": null,
   "metadata": {},
   "outputs": [],
   "source": [
    "def get_key(val): \n",
    "    for key, value in userID_dict.items(): \n",
    "        if val == value: \n",
    "            return key"
   ]
  },
  {
   "cell_type": "code",
   "execution_count": null,
   "metadata": {},
   "outputs": [],
   "source": [
    "print(\"hello\")"
   ]
  },
  {
   "cell_type": "code",
   "execution_count": null,
   "metadata": {},
   "outputs": [],
   "source": [
    "size = str(len(contactedUsers))\n",
    "count = 1\n",
    "for user in contactedUsers:\n",
    "    ira_username_temp = []\n",
    "    ira_userid_temp = []\n",
    "    tweet_temp = []\n",
    "    tweet_date_temp = []\n",
    "    mentions_list_temp = []\n",
    "    for tweet in range(len(contactPointsDF)):\n",
    "        if(contactPointsDF['username'][tweet] == user):\n",
    "            ira_username_temp.append(contactPointsDF['ira_username'][tweet])\n",
    "            ira_userid_temp.append(contactPointsDF['ira_user_id'][tweet])\n",
    "            tweet_temp.append(contactPointsDF['tweet'][tweet])\n",
    "            tweet_date_temp.append(contactPointsDF['tweet_date'][tweet])\n",
    "            mentions_list_temp.append(contactPointsDF['meantions_list'][tweet])\n",
    "    contactDF = contactDF.append(\n",
    "                    {'username' : user,\n",
    "                      'user_id' : get_key(user),\n",
    "                      'ira_username' : ira_username_temp,\n",
    "                      'ira_user_id' : ira_userid_temp,\n",
    "                      'tweet' : tweet_temp,\n",
    "                      'tweet_date' : tweet_date_temp,\n",
    "                      'mentions_list' : mentions_list_temp,\n",
    "                     }, ignore_index=True)\n",
    "    print(str(count) + \" / \" + size)\n",
    "    count += 1"
   ]
  },
  {
   "cell_type": "code",
   "execution_count": null,
   "metadata": {},
   "outputs": [],
   "source": [
    "contactDF.to_csv('contact_IRAtoUser_Inf_NONRESPONSIVE_v2.csv')"
   ]
  },
  {
   "cell_type": "code",
   "execution_count": null,
   "metadata": {},
   "outputs": [],
   "source": [
    "print(len(contactDF))"
   ]
  },
  {
   "cell_type": "code",
   "execution_count": null,
   "metadata": {},
   "outputs": [],
   "source": [
    "len(contactDF.username.unique())"
   ]
  },
  {
   "cell_type": "code",
   "execution_count": null,
   "metadata": {},
   "outputs": [],
   "source": [
    "contactDF.head()"
   ]
  },
  {
   "cell_type": "code",
   "execution_count": null,
   "metadata": {},
   "outputs": [],
   "source": [
    "# for i in range(len(contactDF)):\n",
    "#     if contactDF['username'][i] == 'Borisovalustnah':\n",
    "#         print(str(i))"
   ]
  },
  {
   "cell_type": "code",
   "execution_count": null,
   "metadata": {},
   "outputs": [],
   "source": [
    "# print(str(len(contactDF) - 2265))"
   ]
  },
  {
   "cell_type": "code",
   "execution_count": null,
   "metadata": {},
   "outputs": [],
   "source": [
    "newContactDF = contactDF"
   ]
  },
  {
   "cell_type": "code",
   "execution_count": null,
   "metadata": {},
   "outputs": [],
   "source": [
    "len(contactDF)"
   ]
  },
  {
   "cell_type": "code",
   "execution_count": null,
   "metadata": {},
   "outputs": [],
   "source": [
    "newContactDF.tail()"
   ]
  },
  {
   "cell_type": "code",
   "execution_count": null,
   "metadata": {},
   "outputs": [],
   "source": [
    "newContactDF= newContactDF.reset_index()"
   ]
  },
  {
   "cell_type": "code",
   "execution_count": null,
   "metadata": {},
   "outputs": [],
   "source": [
    "newContactDF = newContactDF.drop(['index'], axis=1)\n",
    "newContactDF.head()"
   ]
  },
  {
   "cell_type": "code",
   "execution_count": null,
   "metadata": {},
   "outputs": [],
   "source": [
    "# newContactDF.to_csv('contact_IRAtoUser.csv')"
   ]
  },
  {
   "cell_type": "code",
   "execution_count": null,
   "metadata": {},
   "outputs": [],
   "source": [
    "# testing = newContactDF['mentions_list'][1]"
   ]
  },
  {
   "cell_type": "code",
   "execution_count": null,
   "metadata": {},
   "outputs": [],
   "source": [
    "# len(testing)"
   ]
  },
  {
   "cell_type": "code",
   "execution_count": null,
   "metadata": {},
   "outputs": [],
   "source": [
    "# tempdf = newContactDF\n",
    "# tempdf['new'] = 0\n",
    "# tempdf.head()"
   ]
  },
  {
   "cell_type": "code",
   "execution_count": null,
   "metadata": {},
   "outputs": [],
   "source": [
    "newContactDF['contact_points'] = 0\n",
    "# print(testing[0][0])\n",
    "for h in range(len(newContactDF)):\n",
    "# for h in range(100):\n",
    "    testing = newContactDF['mentions_list'][h]\n",
    "    temp = []\n",
    "    for k in range(len(testing)):\n",
    "        for l in range(len(testing[k])):\n",
    "            temp.append(testing[k][l])\n",
    "    newContactDF['mentions_list'][h] = temp\n",
    "    newContactDF['contact_points'][h] = len(temp)\n",
    "#     print(temp)"
   ]
  },
  {
   "cell_type": "code",
   "execution_count": null,
   "metadata": {},
   "outputs": [],
   "source": [
    "newContactDF[100:200]"
   ]
  },
  {
   "cell_type": "code",
   "execution_count": null,
   "metadata": {},
   "outputs": [],
   "source": [
    "len(newContactDF)"
   ]
  },
  {
   "cell_type": "code",
   "execution_count": null,
   "metadata": {},
   "outputs": [],
   "source": [
    "# print(temp)"
   ]
  },
  {
   "cell_type": "code",
   "execution_count": null,
   "metadata": {},
   "outputs": [],
   "source": [
    "newContactDF.to_csv('contact_IRAtoUser_Inf_NONRESPONSIVE_v2.csv')"
   ]
  },
  {
   "cell_type": "code",
   "execution_count": null,
   "metadata": {},
   "outputs": [],
   "source": []
  }
 ],
 "metadata": {
  "kernelspec": {
   "display_name": "Python 3",
   "language": "python",
   "name": "python3"
  },
  "language_info": {
   "codemirror_mode": {
    "name": "ipython",
    "version": 3
   },
   "file_extension": ".py",
   "mimetype": "text/x-python",
   "name": "python",
   "nbconvert_exporter": "python",
   "pygments_lexer": "ipython3",
   "version": "3.7.4"
  }
 },
 "nbformat": 4,
 "nbformat_minor": 2
}
