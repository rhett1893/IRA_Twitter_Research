{
 "cells": [
  {
   "cell_type": "code",
   "execution_count": 2,
   "metadata": {},
   "outputs": [],
   "source": [
    "#import sys\n",
    "#!{sys.executable} -m pip install vaderSentiment"
   ]
  },
  {
   "cell_type": "code",
   "execution_count": 5,
   "metadata": {},
   "outputs": [],
   "source": [
    "from vaderSentiment.vaderSentiment import SentimentIntensityAnalyzer\n",
    "analyser = SentimentIntensityAnalyzer()"
   ]
  },
  {
   "cell_type": "code",
   "execution_count": 6,
   "metadata": {},
   "outputs": [],
   "source": [
    "from langdetect import detect\n",
    "from langdetect import DetectorFactory\n",
    "DetectorFactory.seed = 0"
   ]
  },
  {
   "cell_type": "code",
   "execution_count": 7,
   "metadata": {},
   "outputs": [
    {
     "data": {
      "text/plain": [
       "{'neg': 0.0, 'neu': 0.765, 'pos': 0.235, 'compound': 0.6114}"
      ]
     },
     "execution_count": 7,
     "metadata": {},
     "output_type": "execute_result"
    }
   ],
   "source": [
    "analyser.polarity_scores(\"С Днём Рождения, Шерил! Sheryl Crow perform If It Makes You Happy (HD Version) с помощью\")"
   ]
  },
  {
   "cell_type": "code",
   "execution_count": 8,
   "metadata": {},
   "outputs": [
    {
     "data": {
      "text/plain": [
       "{'neg': 0.0, 'neu': 1.0, 'pos': 0.0, 'compound': 0.0}"
      ]
     },
     "execution_count": 8,
     "metadata": {},
     "output_type": "execute_result"
    }
   ],
   "source": [
    "analyser.polarity_scores(\"The movie is long\")"
   ]
  },
  {
   "cell_type": "code",
   "execution_count": 9,
   "metadata": {},
   "outputs": [
    {
     "data": {
      "text/plain": [
       "{'neg': 0.487, 'neu': 0.513, 'pos': 0.0, 'compound': -0.5849}"
      ]
     },
     "execution_count": 9,
     "metadata": {},
     "output_type": "execute_result"
    }
   ],
   "source": [
    "analyser.polarity_scores(\"The movie is very bad\") \n",
    "# We actually want to compound value. \n",
    "# The range of compound is [-1, +1]\n",
    "# If the tweet is positive, it would have a value > 0\n",
    "# If it is absolutely neutral, then 0\n",
    "# If it is negative, then sentiment value would be a value < 0"
   ]
  },
  {
   "cell_type": "code",
   "execution_count": 12,
   "metadata": {},
   "outputs": [],
   "source": [
    "def sentiment_analyzer_score_for_englishOnlyTweet(cleaned_tweet): #this function takes in a tweet that has been detected as an english tweet\n",
    "    score = analyser.polarity_scores(cleaned_tweet) #so this cleaned_tweet is always an english tweet.\n",
    "    lb = score['compound']\n",
    "    return lb"
   ]
  },
  {
   "cell_type": "code",
   "execution_count": 11,
   "metadata": {},
   "outputs": [
    {
     "ename": "NameError",
     "evalue": "name 'tweet' is not defined",
     "output_type": "error",
     "traceback": [
      "\u001b[0;31m---------------------------------------------------------------------------\u001b[0m",
      "\u001b[0;31mNameError\u001b[0m                                 Traceback (most recent call last)",
      "\u001b[0;32m<ipython-input-11-e0a299c53394>\u001b[0m in \u001b[0;36m<module>\u001b[0;34m\u001b[0m\n\u001b[1;32m      1\u001b[0m \u001b[0;31m## Remember, that the above function takes only cleaned tweets written in English\u001b[0m\u001b[0;34m\u001b[0m\u001b[0;34m\u001b[0m\u001b[0;34m\u001b[0m\u001b[0m\n\u001b[1;32m      2\u001b[0m \u001b[0;31m## You can get the sentiment score of a cleaned English tweet in the following way......\u001b[0m\u001b[0;34m\u001b[0m\u001b[0;34m\u001b[0m\u001b[0;34m\u001b[0m\u001b[0m\n\u001b[0;32m----> 3\u001b[0;31m \u001b[0msentiment_score\u001b[0m \u001b[0;34m=\u001b[0m \u001b[0msentiment_analyzer_score_for_englishOnlyTweet\u001b[0m\u001b[0;34m(\u001b[0m\u001b[0mtweet\u001b[0m\u001b[0;34m)\u001b[0m\u001b[0;34m\u001b[0m\u001b[0;34m\u001b[0m\u001b[0m\n\u001b[0m",
      "\u001b[0;31mNameError\u001b[0m: name 'tweet' is not defined"
     ]
    }
   ],
   "source": [
    "## Remember, that the above function takes only cleaned tweets written in English\n",
    "## You can get the sentiment score of a cleaned English tweet in the following way......\n",
    "sentiment_score = sentiment_analyzer_score_for_englishOnlyTweet(tweet)"
   ]
  },
  {
   "cell_type": "code",
   "execution_count": null,
   "metadata": {},
   "outputs": [],
   "source": [
    "## Now given a username, say the username is 'ABCD', you can find the cleaned English tweets of the user \n",
    "## under the directory /home/updu6059/Twint_Data/ParallelProcessing/OnlyEnglishTweets/ABCD.csv\n",
    "\n",
    "## I forgot to add the column header names to the dataframes when creating these csv files for English-only cleaned tweets.\n",
    "## So, when you read these CSV files using pandas, make sure you put 'header=None' as a parameter.\n",
    "## Once you have read the CSV, you can get the tweets in the column that has the 10th index.\n",
    "## The following example will make it more clear about how you should get the English-only Cleaned tweet of any user.\n",
    "\n",
    "# Example...........\n",
    "# username = 'ABCD'\n",
    "# df = pd.read_csv(\"/home/updu6059/Twint_Data/ParallelProcessing/OnlyEnglishTweets/\"+username+\".csv\", header=None, low_memory=False)\n",
    "# allTweetsOfThisUser = df[10]\n",
    "\n",
    "# The variable allTweetsOfThisUser now contains a list of English-Only cleaned tweets of the user 'ABCD'\n",
    "# You can now send each tweet in the list to the function 'sentiment_analyzer_score_for_englishOnlyTweet' and it will\n",
    "# return you the sentiment analysis of the tweet.\n",
    "\n",
    "# It is also important to keep in mind that sentiment analysis value ALWAYS lies between -1 to +1. If you are summing\n",
    "# up the sentiment score of 5 tweets, where each tweet has value of 0.7, your total sentiment score becomes 3.5,\n",
    "# which exceeds 1. So remember to always divide the sum with the total number of tweets you scanned. If you divide\n",
    "# the sum 3.5 by the number of tweets you scanned, i.e 5, you get an 'average' sentiment score of 0.7, which totally\n",
    "# makes sense.\n",
    "\n",
    "# I hope this helps, let me know if any part is confusing to you!"
   ]
  },
  {
   "cell_type": "code",
   "execution_count": 14,
   "metadata": {},
   "outputs": [],
   "source": [
    "# To read the list of users I sent you, please use the following code ..............\n",
    "\n",
    "import pandas as pd\n",
    "df = pd.read_csv('English_MentionedBackUsers_withCleanedData.csv')\n",
    "UserList = list(df['Users'])"
   ]
  },
  {
   "cell_type": "code",
   "execution_count": 15,
   "metadata": {},
   "outputs": [
    {
     "name": "stdout",
     "output_type": "stream",
     "text": [
      "351\n"
     ]
    }
   ],
   "source": [
    "print(len(UserList)) # This should print 351"
   ]
  },
  {
   "cell_type": "code",
   "execution_count": null,
   "metadata": {},
   "outputs": [],
   "source": []
  }
 ],
 "metadata": {
  "kernelspec": {
   "display_name": "Python 3",
   "language": "python",
   "name": "python3"
  },
  "language_info": {
   "codemirror_mode": {
    "name": "ipython",
    "version": 3
   },
   "file_extension": ".py",
   "mimetype": "text/x-python",
   "name": "python",
   "nbconvert_exporter": "python",
   "pygments_lexer": "ipython3",
   "version": "3.7.4"
  }
 },
 "nbformat": 4,
 "nbformat_minor": 2
}
