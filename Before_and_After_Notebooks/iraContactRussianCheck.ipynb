{
 "cells": [
  {
   "cell_type": "code",
   "execution_count": 6,
   "metadata": {},
   "outputs": [],
   "source": [
    "import pandas as pd\n",
    "import re"
   ]
  },
  {
   "cell_type": "code",
   "execution_count": 7,
   "metadata": {},
   "outputs": [],
   "source": [
    "iraTweetDF = pd.read_csv('contact_IRAtweets.csv')"
   ]
  },
  {
   "cell_type": "code",
   "execution_count": 8,
   "metadata": {},
   "outputs": [],
   "source": [
    "def has_cyrillic(text):\n",
    "    return bool(re.search('[а-яА-Я]', text))"
   ]
  },
  {
   "cell_type": "code",
   "execution_count": 9,
   "metadata": {},
   "outputs": [
    {
     "data": {
      "text/html": [
       "<div>\n",
       "<style scoped>\n",
       "    .dataframe tbody tr th:only-of-type {\n",
       "        vertical-align: middle;\n",
       "    }\n",
       "\n",
       "    .dataframe tbody tr th {\n",
       "        vertical-align: top;\n",
       "    }\n",
       "\n",
       "    .dataframe thead th {\n",
       "        text-align: right;\n",
       "    }\n",
       "</style>\n",
       "<table border=\"1\" class=\"dataframe\">\n",
       "  <thead>\n",
       "    <tr style=\"text-align: right;\">\n",
       "      <th></th>\n",
       "      <th>Unnamed: 0</th>\n",
       "      <th>username</th>\n",
       "      <th>user_id</th>\n",
       "      <th>ira_username</th>\n",
       "      <th>ira_user_id</th>\n",
       "      <th>tweet</th>\n",
       "      <th>tweet_date</th>\n",
       "      <th>meantions_list</th>\n",
       "    </tr>\n",
       "  </thead>\n",
       "  <tbody>\n",
       "    <tr>\n",
       "      <td>0</td>\n",
       "      <td>0</td>\n",
       "      <td>Borisovalustnah</td>\n",
       "      <td>2786446638</td>\n",
       "      <td>Filatovalechosl</td>\n",
       "      <td>2785702231</td>\n",
       "      <td>RT @Borisovalustnah: 2d графические движки на ...</td>\n",
       "      <td>2014-09-10 08:16</td>\n",
       "      <td>[2786446638]</td>\n",
       "    </tr>\n",
       "    <tr>\n",
       "      <td>1</td>\n",
       "      <td>1</td>\n",
       "      <td>manniefeathers6</td>\n",
       "      <td>763152148846653440</td>\n",
       "      <td>CovfefeNationUS</td>\n",
       "      <td>743166519157227520</td>\n",
       "      <td>RT @manniefeathers6: @tfgnews @POTUSADJT He Ea...</td>\n",
       "      <td>2017-01-20 18:44</td>\n",
       "      <td>[763152148846653440, 3435613942, 7431665191572...</td>\n",
       "    </tr>\n",
       "    <tr>\n",
       "      <td>2</td>\n",
       "      <td>2</td>\n",
       "      <td>Lenba_Spb</td>\n",
       "      <td>511617963</td>\n",
       "      <td>SashaGreece</td>\n",
       "      <td>2433227806</td>\n",
       "      <td>RT @Lenba_Spb: Toyota готовит новый кроссовер ...</td>\n",
       "      <td>2015-02-01 21:48</td>\n",
       "      <td>[511617963]</td>\n",
       "    </tr>\n",
       "    <tr>\n",
       "      <td>3</td>\n",
       "      <td>3</td>\n",
       "      <td>melaniesgore</td>\n",
       "      <td>15931176</td>\n",
       "      <td>CovfefeNationUS</td>\n",
       "      <td>743166519157227520</td>\n",
       "      <td>RT @melaniesgore: What would #Hillary supporte...</td>\n",
       "      <td>2016-12-06 08:23</td>\n",
       "      <td>[15931176]</td>\n",
       "    </tr>\n",
       "    <tr>\n",
       "      <td>4</td>\n",
       "      <td>4</td>\n",
       "      <td>papilosha</td>\n",
       "      <td>2457294401</td>\n",
       "      <td>ArturBuranof</td>\n",
       "      <td>2233297178</td>\n",
       "      <td>RT @papilosha: Ой!От всего сердца!Главное-здор...</td>\n",
       "      <td>2016-12-17 05:58</td>\n",
       "      <td>[2457294401]</td>\n",
       "    </tr>\n",
       "  </tbody>\n",
       "</table>\n",
       "</div>"
      ],
      "text/plain": [
       "   Unnamed: 0         username             user_id     ira_username  \\\n",
       "0           0  Borisovalustnah          2786446638  Filatovalechosl   \n",
       "1           1  manniefeathers6  763152148846653440  CovfefeNationUS   \n",
       "2           2        Lenba_Spb           511617963      SashaGreece   \n",
       "3           3     melaniesgore            15931176  CovfefeNationUS   \n",
       "4           4        papilosha          2457294401     ArturBuranof   \n",
       "\n",
       "          ira_user_id                                              tweet  \\\n",
       "0          2785702231  RT @Borisovalustnah: 2d графические движки на ...   \n",
       "1  743166519157227520  RT @manniefeathers6: @tfgnews @POTUSADJT He Ea...   \n",
       "2          2433227806  RT @Lenba_Spb: Toyota готовит новый кроссовер ...   \n",
       "3  743166519157227520  RT @melaniesgore: What would #Hillary supporte...   \n",
       "4          2233297178  RT @papilosha: Ой!От всего сердца!Главное-здор...   \n",
       "\n",
       "         tweet_date                                     meantions_list  \n",
       "0  2014-09-10 08:16                                       [2786446638]  \n",
       "1  2017-01-20 18:44  [763152148846653440, 3435613942, 7431665191572...  \n",
       "2  2015-02-01 21:48                                        [511617963]  \n",
       "3  2016-12-06 08:23                                         [15931176]  \n",
       "4  2016-12-17 05:58                                       [2457294401]  "
      ]
     },
     "execution_count": 9,
     "metadata": {},
     "output_type": "execute_result"
    }
   ],
   "source": [
    "iraTweetDF.head()"
   ]
  },
  {
   "cell_type": "code",
   "execution_count": 10,
   "metadata": {},
   "outputs": [
    {
     "name": "stdout",
     "output_type": "stream",
     "text": [
      "russain % = 0.6746438807260617\n"
     ]
    }
   ],
   "source": [
    "count = 0\n",
    "for i in range(len(iraTweetDF)):\n",
    "    tweet = iraTweetDF['tweet'][i]\n",
    "    if has_cyrillic(tweet):\n",
    "        count +=1\n",
    "\n",
    "russian_percent = count / len(iraTweetDF)\n",
    "print(\"russain % = \" + str(russian_percent))"
   ]
  },
  {
   "cell_type": "code",
   "execution_count": 11,
   "metadata": {},
   "outputs": [
    {
     "name": "stdout",
     "output_type": "stream",
     "text": [
      "187367\n"
     ]
    }
   ],
   "source": [
    "print(len(iraTweetDF))"
   ]
  },
  {
   "cell_type": "code",
   "execution_count": 12,
   "metadata": {},
   "outputs": [
    {
     "data": {
      "text/plain": [
       "4996"
      ]
     },
     "execution_count": 12,
     "metadata": {},
     "output_type": "execute_result"
    }
   ],
   "source": [
    "len(iraTweetDF['username'].unique())"
   ]
  },
  {
   "cell_type": "code",
   "execution_count": null,
   "metadata": {},
   "outputs": [],
   "source": []
  }
 ],
 "metadata": {
  "kernelspec": {
   "display_name": "Python 3",
   "language": "python",
   "name": "python3"
  },
  "language_info": {
   "codemirror_mode": {
    "name": "ipython",
    "version": 3
   },
   "file_extension": ".py",
   "mimetype": "text/x-python",
   "name": "python",
   "nbconvert_exporter": "python",
   "pygments_lexer": "ipython3",
   "version": "3.7.4"
  }
 },
 "nbformat": 4,
 "nbformat_minor": 2
}
