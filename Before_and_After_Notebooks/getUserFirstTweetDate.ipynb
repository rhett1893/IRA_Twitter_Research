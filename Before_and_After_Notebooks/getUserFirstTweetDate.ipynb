{
 "cells": [
  {
   "cell_type": "markdown",
   "metadata": {},
   "source": [
    "**Notebook used to create a dataframe of user's first tweet dates, used in order to determine which columns in which the user should be included**"
   ]
  },
  {
   "cell_type": "markdown",
   "metadata": {},
   "source": [
    "**Create dictionary of { [usesname] : first_tweet_date }**"
   ]
  },
  {
   "cell_type": "code",
   "execution_count": null,
   "metadata": {
    "scrolled": true
   },
   "outputs": [],
   "source": [
    "import pandas as pd\n",
    "\n",
    "first_tweet_dict = {}\n",
    "\n",
    "upsana_names_df = pd.read_csv('Filtered_EnglishUsers_DidnotMentionBackUsers.csv')\n",
    "list_of_filtered_users = list(upsana_names_df['Users'])\n",
    "for i in range(len(list_of_filtered_users)):\n",
    "    list_of_filtered_users[i] = list_of_filtered_users[i] + \"_tweet_only.csv\";\n",
    "\n",
    "count = 1\n",
    "total = str(len(list_of_filtered_users))\n",
    "for filename in list_of_filtered_users:\n",
    "    try:\n",
    "        temp_df = pd.read_csv('../../updu6059/Twint_Data/ParallelProcessing/UserData/ALL/'+filename, engine = 'python')\n",
    "        first_tweet = temp_df['date'][len(temp_df)-1]\n",
    "        first_tweet_dict[filename[:-15]] = first_tweet\n",
    "        print(str(count) + \" / \" + total)\n",
    "        count += 1\n",
    "    except:\n",
    "        username = filename[:-15]\n",
    "        print(str(count) + \" - ERROR - \" + username)"
   ]
  },
  {
   "cell_type": "markdown",
   "metadata": {},
   "source": [
    "**Convert dictionary to DataFrame**"
   ]
  },
  {
   "cell_type": "code",
   "execution_count": null,
   "metadata": {},
   "outputs": [],
   "source": [
    "first_tweet_DF = pd.DataFrame(columns = ['username','first_tweet'])\n",
    "\n",
    "for item in first_tweet_dict.items():\n",
    "    key, value = item\n",
    "#     print(\"username = \" + str(key))\n",
    "#     print(\"date = \" + str(value))\n",
    "    first_tweet_DF = first_tweet_DF.append({'username' : key,'first_tweet' : value},ignore_index=True)"
   ]
  },
  {
   "cell_type": "markdown",
   "metadata": {},
   "source": [
    "**Save DataFrame to csv file**"
   ]
  },
  {
   "cell_type": "code",
   "execution_count": null,
   "metadata": {},
   "outputs": [],
   "source": [
    "first_tweet_DF.to_csv('first_tweet.csv')"
   ]
  },
  {
   "cell_type": "code",
   "execution_count": null,
   "metadata": {},
   "outputs": [],
   "source": [
    "#couldn't get these three users so I retrieved manually from their cleaned dataset:"
   ]
  },
  {
   "cell_type": "code",
   "execution_count": null,
   "metadata": {},
   "outputs": [],
   "source": [
    "# UL = ['Geechi_Luciano','_JPryde','BradleyBGroover']\n",
    "# for i in range(len(UL)):\n",
    "#     temp_user_db = pd.read_csv('/home/updu6059/Twint_Data/ParallelProcessing/OnlyEnglishTweets/'+UL[i]+'.csv', header=None, low_memory=False)\n",
    "#     first_tweet = temp_user_db[3][len(temp_user_db)-1]\n",
    "#     print(first_tweet)\n",
    "#     first_tweet_dict[UL[i]] = first_tweet\n",
    "    \n"
   ]
  },
  {
   "cell_type": "code",
   "execution_count": null,
   "metadata": {},
   "outputs": [],
   "source": []
  }
 ],
 "metadata": {
  "kernelspec": {
   "display_name": "Python 3",
   "language": "python",
   "name": "python3"
  },
  "language_info": {
   "codemirror_mode": {
    "name": "ipython",
    "version": 3
   },
   "file_extension": ".py",
   "mimetype": "text/x-python",
   "name": "python",
   "nbconvert_exporter": "python",
   "pygments_lexer": "ipython3",
   "version": "3.7.4"
  }
 },
 "nbformat": 4,
 "nbformat_minor": 2
}
