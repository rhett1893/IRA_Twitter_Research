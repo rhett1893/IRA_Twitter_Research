{
 "cells": [
  {
   "cell_type": "code",
   "execution_count": 1,
   "metadata": {},
   "outputs": [],
   "source": [
    "import pandas as pd\n",
    "import re\n",
    "\n",
    "pd.set_option('display.max_rows', 4000)\n",
    "pd.set_option('display.max_columns', 200)"
   ]
  },
  {
   "cell_type": "code",
   "execution_count": 2,
   "metadata": {},
   "outputs": [],
   "source": [
    "def has_cyrillic(text):\n",
    "    return bool(re.search('[а-яА-Я]', text))"
   ]
  },
  {
   "cell_type": "code",
   "execution_count": 3,
   "metadata": {},
   "outputs": [],
   "source": [
    "df = pd.read_csv('Filtered_EnglishUsers_DidnotMentionBackUsers.csv')\n",
    "UserList = list(df['Users'])"
   ]
  },
  {
   "cell_type": "code",
   "execution_count": 4,
   "metadata": {},
   "outputs": [],
   "source": [
    "userIRAContactDF = pd.read_csv('contact_IRAtoUser.csv')"
   ]
  },
  {
   "cell_type": "code",
   "execution_count": 5,
   "metadata": {},
   "outputs": [
    {
     "data": {
      "text/html": [
       "<div>\n",
       "<style scoped>\n",
       "    .dataframe tbody tr th:only-of-type {\n",
       "        vertical-align: middle;\n",
       "    }\n",
       "\n",
       "    .dataframe tbody tr th {\n",
       "        vertical-align: top;\n",
       "    }\n",
       "\n",
       "    .dataframe thead th {\n",
       "        text-align: right;\n",
       "    }\n",
       "</style>\n",
       "<table border=\"1\" class=\"dataframe\">\n",
       "  <thead>\n",
       "    <tr style=\"text-align: right;\">\n",
       "      <th></th>\n",
       "      <th>Unnamed: 0</th>\n",
       "      <th>username</th>\n",
       "      <th>user_id</th>\n",
       "      <th>ira_username</th>\n",
       "      <th>ira_user_id</th>\n",
       "      <th>tweet</th>\n",
       "      <th>tweet_date</th>\n",
       "      <th>mentions_list</th>\n",
       "      <th>contact_points</th>\n",
       "    </tr>\n",
       "  </thead>\n",
       "  <tbody>\n",
       "    <tr>\n",
       "      <td>0</td>\n",
       "      <td>0</td>\n",
       "      <td>Borisovalustnah</td>\n",
       "      <td>2786446638</td>\n",
       "      <td>['Filatovalechosl', 'Filatovalechosl', 'Filato...</td>\n",
       "      <td>[2785702231, 2785702231, 2785702231, 279001131...</td>\n",
       "      <td>['RT @Borisovalustnah: 2d графические движки н...</td>\n",
       "      <td>['2014-09-10 08:16', '2015-01-26 15:09', '2015...</td>\n",
       "      <td>[2786446638, 2786446638, 2786446638, 278644663...</td>\n",
       "      <td>485</td>\n",
       "    </tr>\n",
       "  </tbody>\n",
       "</table>\n",
       "</div>"
      ],
      "text/plain": [
       "   Unnamed: 0         username     user_id  \\\n",
       "0           0  Borisovalustnah  2786446638   \n",
       "\n",
       "                                        ira_username  \\\n",
       "0  ['Filatovalechosl', 'Filatovalechosl', 'Filato...   \n",
       "\n",
       "                                         ira_user_id  \\\n",
       "0  [2785702231, 2785702231, 2785702231, 279001131...   \n",
       "\n",
       "                                               tweet  \\\n",
       "0  ['RT @Borisovalustnah: 2d графические движки н...   \n",
       "\n",
       "                                          tweet_date  \\\n",
       "0  ['2014-09-10 08:16', '2015-01-26 15:09', '2015...   \n",
       "\n",
       "                                       mentions_list  contact_points  \n",
       "0  [2786446638, 2786446638, 2786446638, 278644663...             485  "
      ]
     },
     "execution_count": 5,
     "metadata": {},
     "output_type": "execute_result"
    }
   ],
   "source": [
    "userIRAContactDF.head(1)"
   ]
  },
  {
   "cell_type": "code",
   "execution_count": 12,
   "metadata": {},
   "outputs": [],
   "source": [
    "total = 0\n",
    "russian = 0\n",
    "for i in range(len(userIRAContactDF)):\n",
    "    if userIRAContactDF['username'][i] in UserList:\n",
    "#         print(userIRAContactDF['contact_points'][i])\n",
    "        total += userIRAContactDF['contact_points'][i]\n",
    "        tweets = userIRAContactDF['tweet'][i]\n",
    "        tweets = tweets.split(', ')\n",
    "        tweets[0] = tweets[0][1:]\n",
    "        tweets[-1] = tweets[-1][:-1]\n",
    "        for j in range(len(tweets)):\n",
    "            if has_cyrillic(tweets[j]):\n",
    "#                 print(tweets[j])\n",
    "                russian += 1\n",
    "#             else:\n",
    "#                 print(tweets[j])\n",
    "            "
   ]
  },
  {
   "cell_type": "code",
   "execution_count": 13,
   "metadata": {},
   "outputs": [],
   "source": [
    "percent = russian / total"
   ]
  },
  {
   "cell_type": "code",
   "execution_count": 14,
   "metadata": {},
   "outputs": [
    {
     "name": "stdout",
     "output_type": "stream",
     "text": [
      "0.001173627890921643\n"
     ]
    }
   ],
   "source": [
    "print(percent)"
   ]
  },
  {
   "cell_type": "code",
   "execution_count": 15,
   "metadata": {},
   "outputs": [
    {
     "name": "stdout",
     "output_type": "stream",
     "text": [
      "17\n"
     ]
    }
   ],
   "source": [
    "print(russian)"
   ]
  },
  {
   "cell_type": "code",
   "execution_count": 16,
   "metadata": {},
   "outputs": [
    {
     "name": "stdout",
     "output_type": "stream",
     "text": [
      "14485\n"
     ]
    }
   ],
   "source": [
    "print(total)"
   ]
  },
  {
   "cell_type": "code",
   "execution_count": 11,
   "metadata": {},
   "outputs": [
    {
     "name": "stdout",
     "output_type": "stream",
     "text": [
      "350\n"
     ]
    }
   ],
   "source": [
    "print(len(UserList))"
   ]
  },
  {
   "cell_type": "code",
   "execution_count": null,
   "metadata": {},
   "outputs": [],
   "source": []
  }
 ],
 "metadata": {
  "kernelspec": {
   "display_name": "Python 3",
   "language": "python",
   "name": "python3"
  },
  "language_info": {
   "codemirror_mode": {
    "name": "ipython",
    "version": 3
   },
   "file_extension": ".py",
   "mimetype": "text/x-python",
   "name": "python",
   "nbconvert_exporter": "python",
   "pygments_lexer": "ipython3",
   "version": "3.7.4"
  }
 },
 "nbformat": 4,
 "nbformat_minor": 2
}
