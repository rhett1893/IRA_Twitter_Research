{
 "cells": [
  {
   "cell_type": "code",
   "execution_count": 1,
   "metadata": {},
   "outputs": [],
   "source": [
    "import csv\n",
    "import numpy as np \n",
    "import pandas as pd\n",
    "from datetime import datetime as dt\n",
    "\n",
    "pd.set_option('display.max_rows', 4000)\n",
    "pd.set_option('display.max_columns', 200)"
   ]
  },
  {
   "cell_type": "code",
   "execution_count": 8,
   "metadata": {},
   "outputs": [],
   "source": [
    "tempDF = pd.read_csv('beforeAfter_AllData.csv', low_memory=False)"
   ]
  },
  {
   "cell_type": "code",
   "execution_count": 9,
   "metadata": {},
   "outputs": [
    {
     "data": {
      "text/html": [
       "<div>\n",
       "<style scoped>\n",
       "    .dataframe tbody tr th:only-of-type {\n",
       "        vertical-align: middle;\n",
       "    }\n",
       "\n",
       "    .dataframe tbody tr th {\n",
       "        vertical-align: top;\n",
       "    }\n",
       "\n",
       "    .dataframe thead th {\n",
       "        text-align: right;\n",
       "    }\n",
       "</style>\n",
       "<table border=\"1\" class=\"dataframe\">\n",
       "  <thead>\n",
       "    <tr style=\"text-align: right;\">\n",
       "      <th></th>\n",
       "      <th>username</th>\n",
       "      <th>first_contact</th>\n",
       "      <th>second_contact</th>\n",
       "      <th>third_contact</th>\n",
       "      <th>tweet_count</th>\n",
       "      <th>sentiment_scores</th>\n",
       "      <th>trump_count</th>\n",
       "    </tr>\n",
       "  </thead>\n",
       "  <tbody>\n",
       "    <tr>\n",
       "      <td>0</td>\n",
       "      <td>tamarindlemur</td>\n",
       "      <td>2015-06-15</td>\n",
       "      <td>2016-02-05</td>\n",
       "      <td>2016-02-09 00:00:00</td>\n",
       "      <td>[1484, 2274, 1759, 1178, 1191, 1354, 1187, 780...</td>\n",
       "      <td>[-0.0907167115902965, -0.09009718557607739, -0...</td>\n",
       "      <td>[0, 1, 0, 0, 0, 0, 1, 0, 0, 0, 0, 0, 3, 8, 1, ...</td>\n",
       "    </tr>\n",
       "  </tbody>\n",
       "</table>\n",
       "</div>"
      ],
      "text/plain": [
       "        username first_contact second_contact        third_contact  \\\n",
       "0  tamarindlemur    2015-06-15     2016-02-05  2016-02-09 00:00:00   \n",
       "\n",
       "                                         tweet_count  \\\n",
       "0  [1484, 2274, 1759, 1178, 1191, 1354, 1187, 780...   \n",
       "\n",
       "                                    sentiment_scores  \\\n",
       "0  [-0.0907167115902965, -0.09009718557607739, -0...   \n",
       "\n",
       "                                         trump_count  \n",
       "0  [0, 1, 0, 0, 0, 0, 1, 0, 0, 0, 0, 0, 3, 8, 1, ...  "
      ]
     },
     "execution_count": 9,
     "metadata": {},
     "output_type": "execute_result"
    }
   ],
   "source": [
    "tempDF = tempDF.drop(columns='Unnamed: 0')\n",
    "tempDF.head(1)"
   ]
  },
  {
   "cell_type": "code",
   "execution_count": 5,
   "metadata": {},
   "outputs": [],
   "source": [
    "tempDF = tempDF.drop(columns='Unnamed: 0')"
   ]
  },
  {
   "cell_type": "markdown",
   "metadata": {},
   "source": [
    "**tweet_count, sentiment_scores, and trump_count are each list with 72 indices which represent the +/- 12 months from each contact point**"
   ]
  },
  {
   "cell_type": "markdown",
   "metadata": {},
   "source": [
    "For example, to examine the tweet counts for the 12 months before and after each of the three contact points for the user at index 0, I would do something like the following:"
   ]
  },
  {
   "cell_type": "code",
   "execution_count": 15,
   "metadata": {},
   "outputs": [],
   "source": [
    "allTweetCounts = tempDF['tweet_count'][0] #first store full array locally\n",
    "\n",
    "allTweetCounts = allTweetCounts.split(', ')\n",
    "allTweetCounts[0] = allTweetCounts[0][1:]\n",
    "allTweetCounts[-1] = allTweetCounts[-1][:-1]\n",
    "for x in range(len(allTweetCounts)):\n",
    "    allTweetCounts[x] = int(allTweetCounts[x])"
   ]
  },
  {
   "cell_type": "code",
   "execution_count": 16,
   "metadata": {},
   "outputs": [],
   "source": [
    "tweetCountFirstContact = allTweetCounts[0:24] #first 24 indices are the 12 before / after itianl contact\n",
    "tweetCountSecondContact = allTweetCounts[24:48] #second set of 24  represents tweet counts for the 12 months before / after second contact\n",
    "tweetCountThirdContact = allTweetCounts[48:] # third set of 24 represents tweet counts for the 12 months before / after third contact"
   ]
  },
  {
   "cell_type": "markdown",
   "metadata": {},
   "source": [
    "Then for each of the 24 indices in the three above lists, they correspond to the following times:\n",
    "\n",
    "-12 -11 -10 -9 -8 -7 -6 -5 -4 -3 -2 -1 1 2 3 4 5 6 7 8 9 10 11 12\n",
    "\n",
    "where a negative number is the number of months prior to contact and a positive number is after contact \n",
    "\n",
    "\n",
    "so for the 12th month before second contact would be accessed by:"
   ]
  },
  {
   "cell_type": "code",
   "execution_count": 19,
   "metadata": {},
   "outputs": [
    {
     "data": {
      "text/plain": [
       "779"
      ]
     },
     "execution_count": 19,
     "metadata": {},
     "output_type": "execute_result"
    }
   ],
   "source": [
    "tweetCountSecondContact[0]"
   ]
  },
  {
   "cell_type": "markdown",
   "metadata": {},
   "source": [
    "and for the third month after the first contact, we would have:"
   ]
  },
  {
   "cell_type": "code",
   "execution_count": 20,
   "metadata": {},
   "outputs": [
    {
     "data": {
      "text/plain": [
       "742"
      ]
     },
     "execution_count": 20,
     "metadata": {},
     "output_type": "execute_result"
    }
   ],
   "source": [
    "tweetCountFirstContact[14]"
   ]
  },
  {
   "cell_type": "markdown",
   "metadata": {},
   "source": [
    "the mechanisms for indexing are the same for the other two scores (sentiment and trump counts)"
   ]
  },
  {
   "cell_type": "markdown",
   "metadata": {},
   "source": [
    "**It is important to note that I have not removed any user from this data frame if they accounts had not yet been created. I do this right before I plot the data and NOT with the use of 'NaN'**"
   ]
  },
  {
   "cell_type": "markdown",
   "metadata": {},
   "source": [
    "in order to see how I remove users from columns where they are not needed before plotting please refer to the notebook located at: \n",
    "\n",
    "/home/rhetthanscom/BeforeAndAfterAnalysis/beforeAfter_IRAtoUser.ipynb "
   ]
  }
 ],
 "metadata": {
  "kernelspec": {
   "display_name": "Python 3",
   "language": "python",
   "name": "python3"
  },
  "language_info": {
   "codemirror_mode": {
    "name": "ipython",
    "version": 3
   },
   "file_extension": ".py",
   "mimetype": "text/x-python",
   "name": "python",
   "nbconvert_exporter": "python",
   "pygments_lexer": "ipython3",
   "version": "3.7.4"
  }
 },
 "nbformat": 4,
 "nbformat_minor": 2
}
