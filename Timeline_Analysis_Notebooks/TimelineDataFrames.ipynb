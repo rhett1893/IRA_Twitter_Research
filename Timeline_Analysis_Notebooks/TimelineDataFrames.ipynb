{
 "cells": [
  {
   "cell_type": "code",
   "execution_count": 1,
   "metadata": {
    "collapsed": true
   },
   "outputs": [],
   "source": [
    "import csv\n",
    "import numpy as np \n",
    "import pandas as pd\n",
    "import pickle\n",
    "\n",
    "pd.set_option('display.max_rows', 4000)\n",
    "pd.set_option('display.max_columns', 200)"
   ]
  },
  {
   "cell_type": "markdown",
   "metadata": {},
   "source": [
    "**Baseline User DataFrames**"
   ]
  },
  {
   "cell_type": "code",
   "execution_count": null,
   "metadata": {
    "collapsed": true
   },
   "outputs": [],
   "source": [
    "BaselineDF = pd.read_pickle(\"/home/rhetthanscom/TimelineAnalysis/RB_timelineDF_090320.pkl\")"
   ]
  },
  {
   "cell_type": "code",
   "execution_count": null,
   "metadata": {},
   "outputs": [],
   "source": [
    "BaselineDF.head(5)"
   ]
  },
  {
   "cell_type": "code",
   "execution_count": null,
   "metadata": {},
   "outputs": [],
   "source": [
    "len(list(BaselineDF['tweet_count'])[4])"
   ]
  },
  {
   "cell_type": "markdown",
   "metadata": {},
   "source": [
    "**This DataFrame is all of the baseline users with all of their characteristics. There are also these more specific DataFrames for each different metric, which I use to plot:**"
   ]
  },
  {
   "cell_type": "code",
   "execution_count": null,
   "metadata": {
    "collapsed": true
   },
   "outputs": [],
   "source": [
    "BL_tweet_countDF = pd.read_pickle(\"/home/rhetthanscom/TimelineAnalysis/RB_tweet_countDF_090320.pkl\")\n",
    "BL_trump_countDF = pd.read_pickle(\"/home/rhetthanscom/TimelineAnalysis/RB_trump_countDF_090320.pkl\")\n",
    "BL_clinton_countDF = pd.read_pickle(\"/home/rhetthanscom/TimelineAnalysis/RB_clinton_countDF_090320.pkl\")\n",
    "BL_sentiment_scoresDF = pd.read_pickle(\"/home/rhetthanscom/TimelineAnalysis/RB_sentiment_scoresDF_090320.pkl\")\n",
    "BL_trump_sentDF = pd.read_pickle(\"/home/rhetthanscom/TimelineAnalysis/RB_trump_sentDF_090320.pkl\")\n",
    "BL_clinton_sentDF = pd.read_pickle(\"/home/rhetthanscom/TimelineAnalysis/RB_clinton_sentDF_090320.pkl\")\n",
    "BL_positive_sentDF = pd.read_pickle(\"/home/rhetthanscom/TimelineAnalysis/RB_positive_sentDF_090320.pkl\")\n",
    "BL_negative_sentDF = pd.read_pickle(\"/home/rhetthanscom/TimelineAnalysis/RB_negative_sentDF_090320.pkl\")"
   ]
  },
  {
   "cell_type": "markdown",
   "metadata": {},
   "source": [
    "**For these DataFrames, each row represents a single user's history. Entries are either sums or averages depending on the metric (e.g., tweet counts are monthly sums, but senimtent scores are monthly means.**"
   ]
  },
  {
   "cell_type": "code",
   "execution_count": null,
   "metadata": {
    "scrolled": true
   },
   "outputs": [],
   "source": [
    "BL_tweet_countDF.head()"
   ]
  },
  {
   "cell_type": "code",
   "execution_count": null,
   "metadata": {},
   "outputs": [],
   "source": [
    "len(list(BL_tweet_countDF.columns))"
   ]
  },
  {
   "cell_type": "code",
   "execution_count": null,
   "metadata": {},
   "outputs": [],
   "source": [
    "BL_negative_sentDF.head()"
   ]
  },
  {
   "cell_type": "markdown",
   "metadata": {},
   "source": [
    "**NaN entries are not values and are not considered when working with column operations, such as sums or averages. NaN values are ignored in these cases. NaN values are used because users had not yet shown account activity for the first time. After activity is detected nonactive months will be reflected as 0s and not NaNs.**\n",
    "\n",
    "\n",
    "\n",
    "\n",
    "\n",
    "\n",
    "\n",
    "\n",
    "\n",
    "\n",
    "\n",
    "\n",
    "\n",
    "\n"
   ]
  },
  {
   "cell_type": "code",
   "execution_count": null,
   "metadata": {
    "collapsed": true
   },
   "outputs": [],
   "source": [
    "\n",
    "\n",
    "\n",
    "\n",
    "\n",
    "\n",
    "\n",
    "\n"
   ]
  },
  {
   "cell_type": "markdown",
   "metadata": {},
   "source": [
    "**Now, we can do the same for the targetted Twitter users:**"
   ]
  },
  {
   "cell_type": "code",
   "execution_count": null,
   "metadata": {
    "collapsed": true
   },
   "outputs": [],
   "source": [
    "TargetedUsersDF = pd.read_pickle(\"/home/rhetthanscom/TimelineAnalysis/PAU_timelineDF_090320.pkl\")"
   ]
  },
  {
   "cell_type": "code",
   "execution_count": null,
   "metadata": {},
   "outputs": [],
   "source": [
    "TargetedUsersDF.head()"
   ]
  },
  {
   "cell_type": "code",
   "execution_count": null,
   "metadata": {},
   "outputs": [],
   "source": [
    "len(list(TargetedUsersDF['trump_sent'])[4])"
   ]
  },
  {
   "cell_type": "code",
   "execution_count": null,
   "metadata": {
    "collapsed": true
   },
   "outputs": [],
   "source": [
    "TU_tweet_countDF = pd.read_pickle(\"/home/rhetthanscom/TimelineAnalysis/PAU_tweet_countDF_090320.pkl\")\n",
    "TU_trump_countDF = pd.read_pickle(\"/home/rhetthanscom/TimelineAnalysis/PAU_trump_countDF_090320.pkl\")\n",
    "TU_clinton_countDF = pd.read_pickle(\"/home/rhetthanscom/TimelineAnalysis/PAU_clinton_countDF_090320.pkl\")\n",
    "TU_sentiment_scoresDF = pd.read_pickle(\"/home/rhetthanscom/TimelineAnalysis/PAU_sentiment_scoresDF_090320.pkl\")\n",
    "TU_trump_sentDF = pd.read_pickle(\"/home/rhetthanscom/TimelineAnalysis/PAU_trump_sentDF_090320.pkl\")\n",
    "TU_clinton_sentDF = pd.read_pickle(\"/home/rhetthanscom/TimelineAnalysis/PAU_clinton_sentDF_090320.pkl\")\n",
    "TU_positive_sentDF = pd.read_pickle(\"/home/rhetthanscom/TimelineAnalysis/PAU_positive_sentDF_090320.pkl\")\n",
    "TU_negative_sentDF = pd.read_pickle(\"/home/rhetthanscom/TimelineAnalysis/PAU_negative_sentDF_090320.pkl\")"
   ]
  },
  {
   "cell_type": "code",
   "execution_count": null,
   "metadata": {},
   "outputs": [],
   "source": [
    "TU_negative_sentDF.head()"
   ]
  },
  {
   "cell_type": "code",
   "execution_count": null,
   "metadata": {
    "collapsed": true
   },
   "outputs": [],
   "source": []
  },
  {
   "cell_type": "code",
   "execution_count": null,
   "metadata": {
    "collapsed": true
   },
   "outputs": [],
   "source": []
  }
 ],
 "metadata": {
  "kernelspec": {
   "display_name": "Python 3",
   "language": "python",
   "name": "python3"
  },
  "language_info": {
   "codemirror_mode": {
    "name": "ipython",
    "version": 3
   },
   "file_extension": ".py",
   "mimetype": "text/x-python",
   "name": "python",
   "nbconvert_exporter": "python",
   "pygments_lexer": "ipython3",
   "version": "3.6.3"
  }
 },
 "nbformat": 4,
 "nbformat_minor": 2
}
